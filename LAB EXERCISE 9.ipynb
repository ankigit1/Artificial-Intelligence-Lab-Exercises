{
 "cells": [
  {
   "cell_type": "markdown",
   "id": "5503a363-7390-45ee-a3a5-c332144118bf",
   "metadata": {
    "editable": true,
    "slideshow": {
     "slide_type": ""
    },
    "tags": []
   },
   "source": [
    "### Fuzzy Set Operations"
   ]
  },
  {
   "cell_type": "code",
   "execution_count": 1,
   "id": "c841d9a6-9a0b-436d-94bb-acdfd3c64518",
   "metadata": {
    "editable": true,
    "slideshow": {
     "slide_type": ""
    },
    "tags": []
   },
   "outputs": [],
   "source": [
    "# Given fuzzy set.\n",
    "\n",
    "A = {1: 0.8, 2: 0.7, 3: 0.1, 4: 1.0, 5: 0.9, 6: 0.3}\n",
    "B = {1: 0.3, 2: 0.4, 3: 0.4, 4: 1.0, 5: 0.0, 6: 0.0}"
   ]
  },
  {
   "cell_type": "markdown",
   "id": "149fe149-7fd0-46aa-b836-eeabe8b56ce4",
   "metadata": {
    "editable": true,
    "slideshow": {
     "slide_type": ""
    },
    "tags": []
   },
   "source": [
    "#### Q1.  On the two fuzzy set A and B, implement the following fuzzy set operations.\n",
    "1. Sum\n",
    "2. Difference\n",
    "3. Cartesian Product\n",
    "4. Union\n",
    "5. Intersection\n",
    "6. Complement of A"
   ]
  },
  {
   "cell_type": "code",
   "execution_count": 2,
   "id": "e49896c2-ab05-4418-a170-0733dc0143ef",
   "metadata": {},
   "outputs": [
    {
     "name": "stdout",
     "output_type": "stream",
     "text": [
      "\n",
      "Sum:\n"
     ]
    },
    {
     "data": {
      "text/plain": [
       "{1: 0.8600000000000001,\n",
       " 2: 0.8200000000000001,\n",
       " 3: 0.45999999999999996,\n",
       " 4: 1.0,\n",
       " 5: 0.9,\n",
       " 6: 0.3}"
      ]
     },
     "execution_count": 2,
     "metadata": {},
     "output_type": "execute_result"
    }
   ],
   "source": [
    "# 1. Sum\n",
    "def fuzzy_sum(A, B):\n",
    "    result = {x: A[x] + B[x] - A[x] * B[x] for x in A}  # Corrected formula\n",
    "    print(\"\\nSum:\")\n",
    "    \n",
    "    return result\n",
    "\n",
    "fuzzy_sum(A, B)"
   ]
  },
  {
   "cell_type": "code",
   "execution_count": 3,
   "id": "1d4326d6-e31e-40e4-a76b-c5669b61c432",
   "metadata": {},
   "outputs": [
    {
     "name": "stdout",
     "output_type": "stream",
     "text": [
      "\n",
      "Difference:\n"
     ]
    },
    {
     "data": {
      "text/plain": [
       "{1: 0.7, 2: 0.6, 3: 0.1, 4: 0.0, 5: 0.9, 6: 0.3}"
      ]
     },
     "execution_count": 3,
     "metadata": {},
     "output_type": "execute_result"
    }
   ],
   "source": [
    "# 2. Difference\n",
    "def fuzzy_difference(A, B):\n",
    "    result = {x: min(A[x], 1 - B[x]) for x in A}  # Corrected formula\n",
    "    print(\"\\nDifference:\")\n",
    "    \n",
    "    return result\n",
    "\n",
    "fuzzy_difference(A, B)"
   ]
  },
  {
   "cell_type": "code",
   "execution_count": 4,
   "id": "d275dc7f-4cbc-4a8f-8cf5-ab45260b0f5a",
   "metadata": {},
   "outputs": [
    {
     "name": "stdout",
     "output_type": "stream",
     "text": [
      "\n",
      "Cartesian Product:\n",
      "{(1, 1): 0.3, (1, 2): 0.4, (1, 3): 0.4, (1, 4): 0.8, (1, 5): 0.0, (1, 6): 0.0, (2, 1): 0.3, (2, 2): 0.4, (2, 3): 0.4, (2, 4): 0.7, (2, 5): 0.0, (2, 6): 0.0, (3, 1): 0.1, (3, 2): 0.1, (3, 3): 0.1, (3, 4): 0.1, (3, 5): 0.0, (3, 6): 0.0, (4, 1): 0.3, (4, 2): 0.4, (4, 3): 0.4, (4, 4): 1.0, (4, 5): 0.0, (4, 6): 0.0, (5, 1): 0.3, (5, 2): 0.4, (5, 3): 0.4, (5, 4): 0.9, (5, 5): 0.0, (5, 6): 0.0, (6, 1): 0.3, (6, 2): 0.3, (6, 3): 0.3, (6, 4): 0.3, (6, 5): 0.0, (6, 6): 0.0}\n"
     ]
    }
   ],
   "source": [
    "# 3. Cartesian Product\n",
    "def fuzzy_cartesian_product(A, B):\n",
    "    result = {(x, y): min(A[x], B[y]) for x in A for y in B}\n",
    "    print(\"\\nCartesian Product:\")\n",
    "    print(result)   \n",
    "\n",
    "fuzzy_cartesian_product(A, B)"
   ]
  },
  {
   "cell_type": "code",
   "execution_count": 5,
   "id": "83ae2120-bea6-4fb2-960d-5d19e24926c4",
   "metadata": {},
   "outputs": [
    {
     "name": "stdout",
     "output_type": "stream",
     "text": [
      "\n",
      "Union:\n",
      "{1: 0.8, 2: 0.7, 3: 0.4, 4: 1.0, 5: 0.9, 6: 0.3}\n"
     ]
    }
   ],
   "source": [
    "# 4. Union\n",
    "def fuzzy_union(A, B):\n",
    "    result = {x: max(A[x], B[x]) for x in A}\n",
    "    print(\"\\nUnion:\")\n",
    "    print(result)\n",
    "    \n",
    "\n",
    "fuzzy_union(A, B)"
   ]
  },
  {
   "cell_type": "code",
   "execution_count": 6,
   "id": "6f0cb6e0-93eb-4ea1-975a-267813033358",
   "metadata": {},
   "outputs": [
    {
     "name": "stdout",
     "output_type": "stream",
     "text": [
      "\n",
      "Intersection:\n",
      "{1: 0.3, 2: 0.4, 3: 0.1, 4: 1.0, 5: 0.0, 6: 0.0}\n"
     ]
    }
   ],
   "source": [
    "# 5. Intersection\n",
    "def fuzzy_intersection(A, B):\n",
    "    result = {x: min(A[x], B[x]) for x in A}\n",
    "    print(\"\\nIntersection:\")\n",
    "    print(result)\n",
    "    \n",
    "fuzzy_intersection(A, B)\n"
   ]
  },
  {
   "cell_type": "code",
   "execution_count": 7,
   "id": "ac085cc0-6524-4fa9-8d4a-0fe60ccdfc52",
   "metadata": {},
   "outputs": [
    {
     "name": "stdout",
     "output_type": "stream",
     "text": [
      "\n",
      "Complement of A:\n",
      "{1: 0.19999999999999996, 2: 0.30000000000000004, 3: 0.9, 4: 0.0, 5: 0.09999999999999998, 6: 0.7}\n"
     ]
    }
   ],
   "source": [
    "# 6. Complement of A\n",
    "def fuzzy_complement(A):\n",
    "    result = {x: 1 - A[x] for x in A}\n",
    "    print(\"\\nComplement of A:\")\n",
    "    print(result)\n",
    "    \n",
    "\n",
    "fuzzy_complement(A)"
   ]
  },
  {
   "cell_type": "markdown",
   "id": "29035e18-d685-4dce-a827-5033594b63ea",
   "metadata": {},
   "source": [
    "#### Q2: Max-min and Max-product composition"
   ]
  },
  {
   "cell_type": "code",
   "execution_count": 8,
   "id": "2a517262-f031-453f-9151-1f9e06d9b9fa",
   "metadata": {},
   "outputs": [
    {
     "name": "stdout",
     "output_type": "stream",
     "text": [
      "\n",
      "Max-min Composition:\n",
      "{1: 0.8, 2: 0.7, 3: 0.1, 4: 1.0, 5: 0.9, 6: 0.3}\n"
     ]
    }
   ],
   "source": [
    "def max_min_composition(A, B):\n",
    "    # product = fuzzy_cartesian_product(A, B)\n",
    "    result = {}\n",
    "    for x in A:\n",
    "        result[x] = max(min(A[x], B[y]) for y in B)\n",
    "    print(\"\\nMax-min Composition:\")\n",
    "    print(result)\n",
    "    \n",
    "\n",
    "max_min_composition(A, B)"
   ]
  },
  {
   "cell_type": "code",
   "execution_count": 9,
   "id": "4bbde8da-aa17-49a5-97fe-951aa6839cc4",
   "metadata": {},
   "outputs": [
    {
     "name": "stdout",
     "output_type": "stream",
     "text": [
      "\n",
      "Max-product Composition:\n",
      "{1: 0.8, 2: 0.7, 3: 0.1, 4: 1.0, 5: 0.9, 6: 0.3}\n"
     ]
    }
   ],
   "source": [
    "def max_product_composition(A, B):\n",
    "    # product = fuzzy_cartesian_product(A, B)\n",
    "    result = {}\n",
    "    for x in A:\n",
    "        result[x] = max(A[x] * B[y] for y in B)\n",
    "    print(\"\\nMax-product Composition:\")\n",
    "    print(result)\n",
    "    \n",
    "\n",
    "max_product_composition(A, B)"
   ]
  }
 ],
 "metadata": {
  "kernelspec": {
   "display_name": "Python 3 (ipykernel)",
   "language": "python",
   "name": "python3"
  },
  "language_info": {
   "codemirror_mode": {
    "name": "ipython",
    "version": 3
   },
   "file_extension": ".py",
   "mimetype": "text/x-python",
   "name": "python",
   "nbconvert_exporter": "python",
   "pygments_lexer": "ipython3",
   "version": "3.13.0"
  }
 },
 "nbformat": 4,
 "nbformat_minor": 5
}
