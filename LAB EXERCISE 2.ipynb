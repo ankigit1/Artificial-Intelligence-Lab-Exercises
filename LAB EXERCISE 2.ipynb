{
 "cells": [
  {
   "cell_type": "markdown",
   "id": "02939614",
   "metadata": {},
   "source": [
    "# Artificial Intelligence Lab\n",
    "# Lab Assignment Sheet 2 (BFS and DFS)"
   ]
  },
  {
   "cell_type": "markdown",
   "id": "40a19964",
   "metadata": {},
   "source": [
    " 1.BFS and DFS for a Graph using an Adjacency List"
   ]
  },
  {
   "cell_type": "code",
   "execution_count": 1,
   "id": "6c669cab",
   "metadata": {},
   "outputs": [],
   "source": [
    "from collections import deque\n",
    "\n",
    "def bfs(graph, start):\n",
    "    visited = set()\n",
    "    queue = deque([start])\n",
    "    while queue:\n",
    "        node = queue.popleft()\n",
    "        if node not in visited:\n",
    "            print(node, end=' ')\n",
    "            visited.add(node)\n",
    "            queue.extend(graph[node])\n",
    "\n",
    "def dfs(graph, start):\n",
    "    visited = set()\n",
    "    stack = [start]\n",
    "    while stack:\n",
    "        node = stack.pop()\n",
    "        if node not in visited:\n",
    "            print(node, end=' ')\n",
    "            visited.add(node)\n",
    "            stack.extend(graph[node])"
   ]
  },
  {
   "cell_type": "code",
   "execution_count": 2,
   "id": "b8f49d80",
   "metadata": {},
   "outputs": [
    {
     "name": "stdout",
     "output_type": "stream",
     "text": [
      "0 1 2 3 4 \n",
      "0 2 4 1 3 "
     ]
    }
   ],
   "source": [
    "graph = {\n",
    "    0: [1, 2],\n",
    "    1: [0, 3, 4],\n",
    "    2: [0, 4],\n",
    "    3: [1],\n",
    "    4: [1, 2]\n",
    "}\n",
    "\n",
    "bfs(graph, 0)\n",
    "print()\n",
    "dfs(graph, 0)"
   ]
  },
  {
   "cell_type": "markdown",
   "id": "082d8c49",
   "metadata": {},
   "source": [
    "2. BFS to Detect if a Path Exists Between Two Nodes"
   ]
  },
  {
   "cell_type": "code",
   "execution_count": 3,
   "id": "1d22170e",
   "metadata": {},
   "outputs": [
    {
     "name": "stdout",
     "output_type": "stream",
     "text": [
      "True\n",
      "False\n"
     ]
    }
   ],
   "source": [
    "from collections import deque\n",
    "\n",
    "def bfs_path_exists(graph, start, end):\n",
    "    visited = set()\n",
    "    queue = deque([start])\n",
    "    while queue:\n",
    "        node = queue.popleft()\n",
    "        if node == end:\n",
    "            return True\n",
    "        if node not in visited:\n",
    "            visited.add(node)\n",
    "            queue.extend(graph[node])\n",
    "    return False\n",
    "\n",
    "graph = {\n",
    "    0: [1, 2],\n",
    "    1: [0, 3, 4],\n",
    "    2: [0, 4],\n",
    "    3: [1],\n",
    "    4: [1, 2]\n",
    "}\n",
    "\n",
    "print(bfs_path_exists(graph, 0, 3))  \n",
    "print(bfs_path_exists(graph, 0, 5))  "
   ]
  },
  {
   "cell_type": "markdown",
   "id": "ef81ab5d",
   "metadata": {},
   "source": [
    "3(a). Jug Problem using BFS"
   ]
  },
  {
   "cell_type": "code",
   "execution_count": 4,
   "id": "9911f2f3",
   "metadata": {},
   "outputs": [],
   "source": [
    "from collections import deque\n",
    "\n",
    "def bfs(A, B, D):\n",
    "    queue = deque([(0, 0)])\n",
    "    visited = set([(0, 0)])\n",
    "    parent = {(0, 0): None}\n",
    "    \n",
    "    while queue:\n",
    "        x, y = queue.popleft()\n",
    "        if x == D and y == 0:\n",
    "            path = []\n",
    "            while (x, y) != (0, 0):\n",
    "                path.append((x, y))\n",
    "                x, y = parent[(x, y)]\n",
    "            path.append((0, 0))\n",
    "            return path[::-1]\n",
    "        \n",
    "        next_states = [\n",
    "            (A, y), (x, B), (0, y), (x, 0),\n",
    "            (max(0, x - (B - y)), min(B, y + x)),\n",
    "            (min(A, x + y), max(0, y - (A - x)))\n",
    "        ]\n",
    "        \n",
    "        for nx, ny in next_states:\n",
    "            if (nx, ny) not in visited:\n",
    "                visited.add((nx, ny))\n",
    "                queue.append((nx, ny))\n",
    "                parent[(nx, ny)] = (x, y)\n",
    "    \n",
    "    return \"No solution\""
   ]
  },
  {
   "cell_type": "code",
   "execution_count": 5,
   "id": "76e9d1ff",
   "metadata": {},
   "outputs": [
    {
     "name": "stdout",
     "output_type": "stream",
     "text": [
      "[(0, 0), (5, 0), (1, 4), (1, 0), (0, 1), (5, 1), (2, 4), (2, 0)]\n"
     ]
    }
   ],
   "source": [
    "A, B, D = 5, 4, 2\n",
    "print(bfs(A, B, D))"
   ]
  },
  {
   "cell_type": "markdown",
   "id": "8bb4cb7c",
   "metadata": {},
   "source": [
    "3(b). Jug Problem using DFS"
   ]
  },
  {
   "cell_type": "code",
   "execution_count": 6,
   "id": "6af38e8b",
   "metadata": {},
   "outputs": [],
   "source": [
    "def dfs(A, B, D):\n",
    "    visited = set()\n",
    "    parent = {}\n",
    "\n",
    "    def dfs_helper(x, y):\n",
    "        if (x, y) in visited:\n",
    "            return False\n",
    "        visited.add((x, y))\n",
    "        if x == D and y == 0:\n",
    "            return True\n",
    "        \n",
    "        next_states = [\n",
    "            (A, y), (x, B), (0, y), (x, 0),\n",
    "            (max(0, x - (B - y)), min(B, y + x)),\n",
    "            (min(A, x + y), max(0, y - (A - x)))\n",
    "        ]\n",
    "        \n",
    "        for nx, ny in next_states:\n",
    "            if (nx, ny) not in visited:\n",
    "                parent[(nx, ny)] = (x, y)\n",
    "                if dfs_helper(nx, ny):\n",
    "                    return True\n",
    "        return False\n",
    "    \n",
    "    if dfs_helper(0, 0):\n",
    "        path = []\n",
    "        x, y = D, 0\n",
    "        while (x, y) != (0, 0):\n",
    "            path.append((x, y))\n",
    "            x, y = parent[(x, y)]\n",
    "        path.append((0, 0))\n",
    "        return path[::-1]\n",
    "    return \"No solution\""
   ]
  },
  {
   "cell_type": "code",
   "execution_count": 7,
   "id": "418c06e2",
   "metadata": {},
   "outputs": [
    {
     "name": "stdout",
     "output_type": "stream",
     "text": [
      "[(0, 0), (5, 0), (5, 3), (0, 3), (3, 0), (3, 3), (5, 1), (0, 1), (1, 0), (1, 3), (4, 0), (4, 3), (5, 2), (0, 2), (2, 0)]\n"
     ]
    }
   ],
   "source": [
    "A, B, D = 5, 3, 2\n",
    "print(dfs(A, B, D))"
   ]
  }
 ],
 "metadata": {
  "kernelspec": {
   "display_name": "Python 3 (ipykernel)",
   "language": "python",
   "name": "python3"
  },
  "language_info": {
   "codemirror_mode": {
    "name": "ipython",
    "version": 3
   },
   "file_extension": ".py",
   "mimetype": "text/x-python",
   "name": "python",
   "nbconvert_exporter": "python",
   "pygments_lexer": "ipython3",
   "version": "3.13.0"
  }
 },
 "nbformat": 4,
 "nbformat_minor": 5
}
