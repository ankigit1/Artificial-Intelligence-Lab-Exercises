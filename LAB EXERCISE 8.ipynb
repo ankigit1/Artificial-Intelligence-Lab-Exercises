{
 "cells": [
  {
   "cell_type": "markdown",
   "id": "4b5fc75f-4cdc-426e-9306-02c9f4e9247c",
   "metadata": {},
   "source": [
    "## Aim: Write a python program to implement Genetic Algorithm for fitness function,\n",
    "                                                          \n",
    "### Fitness Function f(x) = x*sin⁡(10π*x)+10"
   ]
  },
  {
   "cell_type": "code",
   "execution_count": 1,
   "id": "3160c9ab-e57c-47e3-863c-b93fd9d7924c",
   "metadata": {},
   "outputs": [],
   "source": [
    "import random\n",
    "import math"
   ]
  },
  {
   "cell_type": "markdown",
   "id": "d6a64d57-cd4d-4e68-8ed9-a656e87fecda",
   "metadata": {},
   "source": [
    "#### Given Parameters"
   ]
  },
  {
   "cell_type": "code",
   "execution_count": 2,
   "id": "95df93c7-5fe7-4350-8a5b-58a6b2f4e9c4",
   "metadata": {},
   "outputs": [],
   "source": [
    "population_size = 20\n",
    "chromosome_length = 6\n",
    "mutation_rate = 0.01\n",
    "crossover_rate = 0.2"
   ]
  },
  {
   "cell_type": "code",
   "execution_count": 3,
   "id": "c37532fd-6a87-4535-9857-38f9675b7c82",
   "metadata": {},
   "outputs": [],
   "source": [
    "#we are generating our population ranging from 1 to 50 \n",
    "population_array = []\n",
    "for i in range(1, 51):\n",
    "    population_array.append(i)\n",
    "\n",
    "def solution(array):\n",
    "    filtered = [num for num in array if num < 50]\n",
    "    if not filtered:\n",
    "        return None  \n",
    "    return max(filtered)\n",
    "\n",
    "#calculating the fitness of chromosome\n",
    "def fitness_scores(x):\n",
    "    return x * math.sin(10 * 3.14 * x) + 10\n",
    "\n",
    "#converting binary bits to integer\n",
    "def decode_gene(gene):\n",
    "    return int(gene, 2)\n",
    "\n",
    "#Calculating fitness of all chromosome that are selected at random\n",
    "def evaluate_fitness(population):\n",
    "    fitness_score = []\n",
    "    for individual in population:\n",
    "        x = decode_gene(individual)\n",
    "        fitness_score.append(fitness_scores(x))\n",
    "    return fitness_score\n",
    "\n",
    "#Calculating the expected count and from that selecting the chromosome that are going to particiapte in crossover\n",
    "def select_population(population, fitness_score):\n",
    "    avg_fitness = sum(fitness_score) / len(fitness_score)\n",
    "    expected_counts = [round(fitness / avg_fitness) for fitness in fitness_score]\n",
    "    total_count = sum(expected_counts)\n",
    "\n",
    "    while total_count > population_size:\n",
    "        max_index = expected_counts.index(max(expected_counts))\n",
    "        expected_counts[max_index] -= 1\n",
    "        total_count -= 1\n",
    "\n",
    "    while total_count < population_size:\n",
    "        max_index = expected_counts.index(max(expected_counts))\n",
    "        expected_counts[max_index] += 1\n",
    "        total_count += 1\n",
    "\n",
    "    selected = []\n",
    "    for individual, count in zip(population, expected_counts):\n",
    "        for _ in range(count):\n",
    "            selected.append(individual)\n",
    "    random.shuffle(selected)        #suffling the selected chromosomr to add randomness\n",
    "    return selected\n",
    "\n",
    "#performing the single point crossover\n",
    "def crossover(parent1, parent2):\n",
    "    point = random.randint(1, chromosome_length - 1) \n",
    "    child1 = parent1[:point] + parent2[point:]\n",
    "    child2 = parent2[:point] + parent1[point:]\n",
    "    return child1, child2\n",
    "\n",
    "#Performing the mutation on each individual bits\n",
    "def mutate(individual):\n",
    "    mutated = \"\"\n",
    "    for bit in individual:\n",
    "        if random.random() < mutation_rate:     #performing mutation only if random value is less than mutation rate\n",
    "            mutated += str(1 - int(bit))\n",
    "        else:\n",
    "            mutated += bit\n",
    "    return mutated"
   ]
  },
  {
   "cell_type": "markdown",
   "id": "06571cc8-bc44-41e6-8f5c-bd8198d17a12",
   "metadata": {},
   "source": [
    "#### Genetic algorithm"
   ]
  },
  {
   "cell_type": "code",
   "execution_count": 4,
   "id": "375eb7e9-bf2a-454f-8de7-44d8cb600ee9",
   "metadata": {},
   "outputs": [],
   "source": [
    "def genetic_algorithm():\n",
    "    best_result = []\n",
    "    for _ in range(10):     #performing genetic for 10 times and selecting best from it\n",
    "        population = []\n",
    "        for _ in range(4):      #selecting  4 individual at random from population\n",
    "            number = random.choice(population_array)\n",
    "            binary_rep = format(number, '06b')\n",
    "            population.append(binary_rep)\n",
    "\n",
    "        fitness_score = evaluate_fitness(population)        #Calculating fitness of all individuals\n",
    "        selected_population = select_population(population, fitness_score)      #Selecting the individuals for crossover\n",
    "        next_population = []\n",
    "        for i in range(0, 4, 2):        #generating new offspring from parent chromosomes\n",
    "            parent1 = selected_population[i]\n",
    "            parent2 = selected_population[i + 1]\n",
    "            if random.random() < crossover_rate:        #performing crossover only if random value is less than crossover rate\n",
    "                child1, child2 = crossover(parent1, parent2)\n",
    "                next_population.append(child1)\n",
    "                next_population.append(child2)\n",
    "            else:\n",
    "                next_population.append(parent1)\n",
    "                next_population.append(parent2)\n",
    "\n",
    "        population = [mutate(individual) for individual in next_population]     #performing the mutation on crossover\n",
    "        best_result.append(max([decode_gene(individual) for individual in population])) #selecting a single individuals \n",
    "\n",
    "    return best_result"
   ]
  },
  {
   "cell_type": "code",
   "execution_count": 5,
   "id": "eef24cbc-89ba-43a2-b96a-389783d8acc9",
   "metadata": {},
   "outputs": [
    {
     "name": "stdout",
     "output_type": "stream",
     "text": [
      "Best Solution is: 47\n"
     ]
    }
   ],
   "source": [
    "result = genetic_algorithm()    #calling the genetic algorithm     \n",
    "print(\"Best Solution is:\", solution(result))     #returing the best individual after 10 iteration"
   ]
  }
 ],
 "metadata": {
  "kernelspec": {
   "display_name": "Python 3 (ipykernel)",
   "language": "python",
   "name": "python3"
  },
  "language_info": {
   "codemirror_mode": {
    "name": "ipython",
    "version": 3
   },
   "file_extension": ".py",
   "mimetype": "text/x-python",
   "name": "python",
   "nbconvert_exporter": "python",
   "pygments_lexer": "ipython3",
   "version": "3.13.0"
  }
 },
 "nbformat": 4,
 "nbformat_minor": 5
}
