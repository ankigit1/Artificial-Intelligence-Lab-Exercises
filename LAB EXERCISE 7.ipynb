{
 "cells": [
  {
   "cell_type": "markdown",
   "id": "03a91678-9ece-4121-9703-9d86eec4d7e5",
   "metadata": {},
   "source": [
    "### Genetic Algorithm Exercise\n"
   ]
  },
  {
   "cell_type": "code",
   "execution_count": 1,
   "id": "661fc91d-17ec-4a3e-b761-bec919a86cd5",
   "metadata": {},
   "outputs": [],
   "source": [
    "import random\n",
    "\n",
    "# Genetic Algorithm Parameters\n",
    "population_size = 20\n",
    "chromosome_length = 5  # Binary representation length for numbers 0 to 31 (5 bits)\n",
    "mutation_rate = 0.1\n",
    "stop_limit = 20  # Number of generations with no improvement allowed"
   ]
  },
  {
   "cell_type": "markdown",
   "id": "01fb37fe-b29d-45b3-be4e-caf159ace38e",
   "metadata": {},
   "source": [
    "#### Defining All Functions That will be required in main algorithm"
   ]
  },
  {
   "cell_type": "code",
   "execution_count": 2,
   "id": "18172e36-90f1-4d35-b46a-121cc543f81c",
   "metadata": {},
   "outputs": [],
   "source": [
    "# Fitness function: x^2\n",
    "def fitness_function(x):\n",
    "    return x ** 2\n",
    "\n",
    "# Generate initial population\n",
    "def generate_population(size, chromosome_length):\n",
    "    population = []\n",
    "    for _ in range(size):\n",
    "        individual = [random.choice([0, 1]) for _ in range(chromosome_length)]\n",
    "        population.append(individual)\n",
    "    return population\n",
    "\n",
    "# Decode binary gene to integer\n",
    "def decode_gene(gene):\n",
    "    value = 0\n",
    "    for bit in gene:\n",
    "        value = (value << 1) | bit  # Convert binary array to integer\n",
    "    return value\n",
    "\n",
    "# Evaluate fitness for all individuals\n",
    "def evaluate_fitness(population):\n",
    "    fitness_scores = []\n",
    "    for individual in population:\n",
    "        x = decode_gene(individual)\n",
    "        fitness_scores.append(fitness_function(x))\n",
    "    return fitness_scores\n",
    "\n",
    "# Selection using expected count formula\n",
    "def select_population(population, fitness_scores):\n",
    "    # Calculate average fitness\n",
    "    avg_fitness = sum(fitness_scores) / len(fitness_scores)\n",
    "    \n",
    "    # Calculate expected counts based on the formula\n",
    "    expected_counts = []\n",
    "    for fitness in fitness_scores:\n",
    "        expected_count = round(fitness / avg_fitness)\n",
    "        expected_counts.append(expected_count)\n",
    "    \n",
    "    # Adjust the list to ensure the total matches population size\n",
    "    total_count = sum(expected_counts)\n",
    "    while total_count > population_size:\n",
    "        max_index = expected_counts.index(max(expected_counts))\n",
    "        expected_counts[max_index] -= 1\n",
    "        total_count -= 1\n",
    "    while total_count < population_size:\n",
    "        max_index = fitness_scores.index(max(fitness_scores))\n",
    "        expected_counts[max_index] += 1\n",
    "        total_count += 1\n",
    "    \n",
    "    # Generate the selected population\n",
    "    selected = []\n",
    "    for individual, count in zip(population, expected_counts):\n",
    "        for _ in range(count):\n",
    "            selected.append(individual)\n",
    "    \n",
    "    random.shuffle(selected)\n",
    "    return selected\n",
    "\n",
    "# Perform single-point crossover\n",
    "def crossover(parent1, parent2):\n",
    "    point = random.randint(1, chromosome_length - 1)  # Choose a crossover point\n",
    "    child1 = parent1[:point] + parent2[point:]\n",
    "    child2 = parent2[:point] + parent1[point:]\n",
    "    return child1, child2"
   ]
  },
  {
   "cell_type": "code",
   "execution_count": 3,
   "id": "b12179fc-cfde-4348-80a8-51d063d414dd",
   "metadata": {},
   "outputs": [],
   "source": [
    "# Perform mutation\n",
    "def mutate(individual):\n",
    "    mutated = []\n",
    "    for bit in individual:\n",
    "        if random.random() < mutation_rate:\n",
    "            mutated.append(1 - bit)  # Flip the bit\n",
    "        else:\n",
    "            mutated.append(bit)\n",
    "    return mutated"
   ]
  },
  {
   "cell_type": "markdown",
   "id": "5a3c523e-186f-491f-b079-7dc22b6a5159",
   "metadata": {},
   "source": [
    "#### Main Genetic Algorithm"
   ]
  },
  {
   "cell_type": "code",
   "execution_count": 4,
   "id": "a4fbdccc-4f26-4554-a181-98e3724c2e64",
   "metadata": {},
   "outputs": [],
   "source": [
    "def genetic_algorithm():\n",
    "    # Step 1: Initialize population\n",
    "    population = generate_population(population_size, chromosome_length)\n",
    "    best_fitness = 0\n",
    "    stagnation_counter = 0\n",
    "    \n",
    "    generation = 0\n",
    "    best_individual = None\n",
    "    while stagnation_counter < stop_limit:\n",
    "        generation += 1\n",
    "        \n",
    "        # Step 2: Evaluate fitness\n",
    "        fitness_scores = evaluate_fitness(population)\n",
    "        max_fitness = max(fitness_scores)\n",
    "        best_individual = population[fitness_scores.index(max_fitness)]\n",
    "        \n",
    "        # Check for improvement in fitness\n",
    "        if max_fitness > best_fitness:\n",
    "            best_fitness = max_fitness\n",
    "            stagnation_counter = 0  # Reset counter if improvement occurs\n",
    "        else:\n",
    "            stagnation_counter += 1  # Increment stagnation counter\n",
    "        \n",
    "        # Step 3: Selection\n",
    "        selected_population = select_population(population, fitness_scores)\n",
    "        \n",
    "        # Step 4: Crossover\n",
    "        next_population = []\n",
    "        for i in range(0, population_size, 2):\n",
    "            parent1 = selected_population[i]\n",
    "            parent2 = selected_population[i + 1]\n",
    "            child1, child2 = crossover(parent1, parent2)\n",
    "            next_population.append(child1)\n",
    "            next_population.append(child2)\n",
    "        \n",
    "        # Step 5: Mutation\n",
    "        population = [mutate(individual) for individual in next_population]\n",
    "\n",
    "    \n",
    "    best_sol=decode_gene(best_individual)\n",
    "    # Return the best individual, its fitness, and the total number of generations\n",
    "    return best_sol, best_fitness, generation"
   ]
  },
  {
   "cell_type": "markdown",
   "id": "89d846a7-1dee-4a2e-8f3b-09a44ca16037",
   "metadata": {},
   "source": [
    "#### Run the Genetic Algorithm"
   ]
  },
  {
   "cell_type": "code",
   "execution_count": 5,
   "id": "010ba8b3-25c9-47d8-ab86-26cda09e8d51",
   "metadata": {},
   "outputs": [
    {
     "name": "stdout",
     "output_type": "stream",
     "text": [
      "Best solution: 31\n",
      "Fitness of best solution: 961\n",
      "Total generations: 21\n"
     ]
    }
   ],
   "source": [
    "best_sol, best_fitness, generations = genetic_algorithm()\n",
    "print(f\"Best solution: {best_sol}\")\n",
    "print(f\"Fitness of best solution: {best_fitness}\")\n",
    "print(f\"Total generations: {generations}\")"
   ]
  }
 ],
 "metadata": {
  "kernelspec": {
   "display_name": "Python 3 (ipykernel)",
   "language": "python",
   "name": "python3"
  },
  "language_info": {
   "codemirror_mode": {
    "name": "ipython",
    "version": 3
   },
   "file_extension": ".py",
   "mimetype": "text/x-python",
   "name": "python",
   "nbconvert_exporter": "python",
   "pygments_lexer": "ipython3",
   "version": "3.13.0"
  }
 },
 "nbformat": 4,
 "nbformat_minor": 5
}
