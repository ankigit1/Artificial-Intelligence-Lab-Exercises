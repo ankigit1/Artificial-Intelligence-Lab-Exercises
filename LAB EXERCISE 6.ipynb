{
 "cells": [
  {
   "cell_type": "markdown",
   "id": "068eb11d-485b-465e-b1f2-7208a9c3b6cd",
   "metadata": {},
   "source": [
    "#### Question: Implement a Naive Bayes classifier from scratch in Python. Your implementation should work with both discrete (categorical) and continuous (Gaussian) data. You can use a simple dataset such as Iris or Titanic for testing the classifier."
   ]
  },
  {
   "cell_type": "markdown",
   "id": "fdea3a20-a69e-471d-b1c2-07ef7685ef96",
   "metadata": {},
   "source": [
    "Importing requirements"
   ]
  },
  {
   "cell_type": "code",
   "execution_count": 1,
   "id": "dcb4742e-8e9c-44da-bf93-e78b1c6a5797",
   "metadata": {},
   "outputs": [],
   "source": [
    "import numpy as np\n",
    "from sklearn.model_selection import train_test_split\n",
    "from sklearn.datasets import load_iris\n",
    "from sklearn.metrics import accuracy_score\n",
    "import pandas as pd"
   ]
  },
  {
   "cell_type": "markdown",
   "id": "bac420d5-f39f-4607-8a2b-a266d8f2ae5a",
   "metadata": {},
   "source": [
    "Using a Gaussian probability function for Continuous Features"
   ]
  },
  {
   "cell_type": "code",
   "execution_count": 2,
   "id": "a4dc77f3-ed94-482a-9c78-9dedd00dbbe2",
   "metadata": {},
   "outputs": [],
   "source": [
    "def calculate_gaussian_probability(x, mean, std):\n",
    "    denominator = np.sqrt(2 * np.pi) * std\n",
    "    exponent = -((x - mean) ** 2 / (2 * std ** 2))\n",
    "    probability = (1 / denominator) * np.exp(exponent)\n",
    "    return probability"
   ]
  },
  {
   "cell_type": "markdown",
   "id": "3e77a368-b243-474e-9637-c4330ad7278e",
   "metadata": {},
   "source": [
    "Implementing the Naive Bayes Class"
   ]
  },
  {
   "cell_type": "code",
   "execution_count": 3,
   "id": "04774ca8-4678-4026-bc45-aa651d77b562",
   "metadata": {},
   "outputs": [],
   "source": [
    "class NaiveBayes:\n",
    "    def fit(self, X, y):\n",
    "        self.classes = np.unique(y)\n",
    "        self.means = {}\n",
    "        self.stds = {}\n",
    "        self.class_priors = {}\n",
    "        self.feature_types = []\n",
    "\n",
    "        # Determine feature types\n",
    "        for i in range(X.shape[1]):\n",
    "            if np.issubdtype(X[:, i].dtype, np.number):\n",
    "                self.feature_types.append('continuous')\n",
    "            else:\n",
    "                self.feature_types.append('discrete')\n",
    "\n",
    "        self.discrete_probs = {}\n",
    "\n",
    "        # Compute class-wise statistics\n",
    "        for cls in self.classes:\n",
    "            X_cls = X[y == cls]\n",
    "            self.class_priors[cls] = len(X_cls) / len(X)\n",
    "            self.means[cls] = {}\n",
    "            self.stds[cls] = {}\n",
    "            self.discrete_probs[cls] = {}\n",
    "\n",
    "            for i in range(X.shape[1]):\n",
    "                if self.feature_types[i] == 'continuous':\n",
    "                    feature_mean = np.mean(X_cls[:, i])\n",
    "                    feature_std = np.std(X_cls[:, i])\n",
    "                    self.means[cls][i] = feature_mean\n",
    "                    self.stds[cls][i] = feature_std\n",
    "                else:\n",
    "                    values, counts = np.unique(X_cls[:, i], return_counts=True)\n",
    "                    probabilities = counts / len(X_cls)\n",
    "                    self.discrete_probs[cls][i] = dict(zip(values, probabilities))\n",
    "\n",
    "    def _discrete_prob(self, x, cls, i):\n",
    "        # Handle discrete probability retrieval with smoothing\n",
    "        prob = self.discrete_probs[cls][i].get(x, 1e-6)\n",
    "        return prob\n",
    "\n",
    "    def predict(self, X):\n",
    "        preds = []\n",
    "        for x in X:\n",
    "            posteriors = []\n",
    "            for cls in self.classes:\n",
    "                prior = np.log(self.class_priors[cls])\n",
    "                likelihood = 0\n",
    "\n",
    "                for i in range(X.shape[1]):\n",
    "                    if self.feature_types[i] == 'continuous':\n",
    "                        gaussian_prob = calculate_gaussian_probability(x[i], self.means[cls][i], self.stds[cls][i])\n",
    "                        log_gaussian_prob = np.log(gaussian_prob)\n",
    "                        likelihood += log_gaussian_prob\n",
    "                    else:\n",
    "                        discrete_prob = self._discrete_prob(x[i], cls, i)\n",
    "                        log_discrete_prob = np.log(discrete_prob)\n",
    "                        likelihood += log_discrete_prob\n",
    "\n",
    "                posterior = prior + likelihood\n",
    "                posteriors.append(posterior)\n",
    "\n",
    "            predicted_class = self.classes[np.argmax(posteriors)]\n",
    "            preds.append(predicted_class)\n",
    "        return np.array(preds)"
   ]
  },
  {
   "cell_type": "markdown",
   "id": "5b86ad27-bbec-47c4-a10b-2c88e1b73610",
   "metadata": {},
   "source": [
    "Testing on Iris Data"
   ]
  },
  {
   "cell_type": "code",
   "execution_count": 4,
   "id": "1e54c3ae-f842-4b2c-ac36-c7b03445afee",
   "metadata": {},
   "outputs": [
    {
     "name": "stdout",
     "output_type": "stream",
     "text": [
      "Iris Accuracy: 100.0\n"
     ]
    }
   ],
   "source": [
    "iris = load_iris()\n",
    "X, y = iris.data, iris.target\n",
    "X_train, X_test, y_train, y_test = train_test_split(X, y, test_size=0.2, random_state=42)\n",
    "nb = NaiveBayes()\n",
    "nb.fit(X_train, y_train)\n",
    "print(\"Iris Accuracy:\", accuracy_score(y_test, nb.predict(X_test)) * 100)"
   ]
  },
  {
   "cell_type": "markdown",
   "id": "b9785108-448a-45c1-8f19-391142eec5a7",
   "metadata": {},
   "source": [
    "Testing on Titanic Data"
   ]
  },
  {
   "cell_type": "code",
   "execution_count": 5,
   "id": "7a6a3d6f-fd50-4b19-bf71-e406e8ba4ff8",
   "metadata": {},
   "outputs": [
    {
     "name": "stdout",
     "output_type": "stream",
     "text": [
      "Titanic Accuracy: 74.12587412587412\n"
     ]
    }
   ],
   "source": [
    "data = pd.read_csv(\"https://raw.githubusercontent.com/datasciencedojo/datasets/master/titanic.csv\")\n",
    "data = data[[\"Survived\", \"Pclass\", \"Sex\", \"Age\", \"Fare\"]].dropna()\n",
    "data[\"Sex\"] = data[\"Sex\"].map({\"male\": 0, \"female\": 1})\n",
    "X, y = data.iloc[:, 1:].values, data.iloc[:, 0].values\n",
    "X_train, X_test, y_train, y_test = train_test_split(X, y, test_size=0.2, random_state=42)\n",
    "nb.fit(X_train, y_train)\n",
    "print(\"Titanic Accuracy:\", accuracy_score(y_test, nb.predict(X_test)) * 100)"
   ]
  }
 ],
 "metadata": {
  "kernelspec": {
   "display_name": "Python 3 (ipykernel)",
   "language": "python",
   "name": "python3"
  },
  "language_info": {
   "codemirror_mode": {
    "name": "ipython",
    "version": 3
   },
   "file_extension": ".py",
   "mimetype": "text/x-python",
   "name": "python",
   "nbconvert_exporter": "python",
   "pygments_lexer": "ipython3",
   "version": "3.13.0"
  }
 },
 "nbformat": 4,
 "nbformat_minor": 5
}
