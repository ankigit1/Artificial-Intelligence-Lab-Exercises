{
 "cells": [
  {
   "cell_type": "markdown",
   "id": "75fe0a9b-f4c0-4193-ba46-f22e2e3508ca",
   "metadata": {},
   "source": [
    "#### Q1. Create a fuzzy control system for temperature regulation using the Zadeh Max-Min method. The system should take input temperature (Low, Medium, High) and output fan speed (Slow, Medium, Fast). Implement the fuzzy rules and apply the Max-Min method to infer the output."
   ]
  },
  {
   "cell_type": "code",
   "execution_count": 1,
   "id": "e1165e31-302e-4e40-a2c6-0ced015c47f5",
   "metadata": {},
   "outputs": [],
   "source": [
    "import numpy as np"
   ]
  },
  {
   "cell_type": "markdown",
   "id": "8a9b69d1-e3b7-42a3-8deb-12839ee3c568",
   "metadata": {},
   "source": [
    "##### Step 1: Define the membership functions for temperature input"
   ]
  },
  {
   "cell_type": "code",
   "execution_count": 2,
   "id": "f01c1ff7-ce2b-4705-92f5-55f6403ecf90",
   "metadata": {},
   "outputs": [],
   "source": [
    "def temp_low(x):    \n",
    "    if x <= 20:\n",
    "        return 1  # Full membership if x is 20 or below\n",
    "    elif 20 < x < 30:\n",
    "        return (30 - x) / 10  # Linear decrease from 20 to 30\n",
    "    else:\n",
    "        return 0  # No membership if x is above 30\n",
    "\n",
    "def temp_medium(x):    \n",
    "    if 20 < x <= 30:\n",
    "        return (x - 20) / 10  # Linear increase from 20 to 30\n",
    "    elif 30 < x < 40:\n",
    "        return (40 - x) / 10  # Linear decrease from 30 to 40\n",
    "    else:\n",
    "        return 0  # No membership outside 20 to 40\n",
    "\n",
    "def temp_high(x):    \n",
    "    if x < 30:\n",
    "        return 0  # No membership if x is below 30\n",
    "    elif 30 <= x <= 40:\n",
    "        return (x - 30) / 10  # Linear increase from 30 to 40\n",
    "    else:\n",
    "        return 1  # Full membership if x is above 40"
   ]
  },
  {
   "cell_type": "markdown",
   "id": "3676fc1a-fef7-4b1d-ac63-9dabda546443",
   "metadata": {},
   "source": [
    "##### Step 2: Define the membership functions for fan speed output"
   ]
  },
  {
   "cell_type": "code",
   "execution_count": 3,
   "id": "29567724-0909-4fdb-af66-44c76e6a18cd",
   "metadata": {},
   "outputs": [],
   "source": [
    "def fan_slow(x):    \n",
    "    if x <= 10:\n",
    "        return 1  # Full membership if x is 10 or below\n",
    "    elif 10 < x < 20:\n",
    "        return (20 - x) / 10  # Linear decrease from 10 to 20\n",
    "    else:\n",
    "        return 0  # No membership if x is above 20\n",
    "\n",
    "def fan_medium(x):    \n",
    "    if 10 < x <= 20:\n",
    "        return (x - 10) / 10  # Linear increase from 10 to 20\n",
    "    elif 20 < x < 30:\n",
    "        return (30 - x) / 10  # Linear decrease from 20 to 30\n",
    "    else:\n",
    "        return 0  # No membership outside 10 to 30\n",
    "\n",
    "def fan_fast(x):    \n",
    "    if x < 20:\n",
    "        return 0  # No membership if x is below 20\n",
    "    elif 20 <= x <= 30:\n",
    "        return (x - 20) / 10  # Linear increase from 20 to 30\n",
    "    else:\n",
    "        return 1  # Full membership if x is above 30"
   ]
  },
  {
   "cell_type": "markdown",
   "id": "6d6086be-f9cf-4b9c-b2ca-223fff147e95",
   "metadata": {},
   "source": [
    "##### Step 3: Apply the Max-Min method for inference"
   ]
  },
  {
   "cell_type": "code",
   "execution_count": 4,
   "id": "1b15a5c9-3651-4b47-8fe2-7a30113f7df6",
   "metadata": {},
   "outputs": [],
   "source": [
    "def infer_fuzzy_output(temp_input):\n",
    "    # Evaluate the degree of membership for the temperature input\n",
    "    degree_low = temp_low(temp_input)\n",
    "    degree_medium = temp_medium(temp_input)\n",
    "    degree_high = temp_high(temp_input)\n",
    "\n",
    "    # Apply rules to infer output degrees\n",
    "    degree_slow = min(degree_low, 1)  # Rule 1: Low temperature leads to Slow fan speed\n",
    "    degree_medium_out = min(degree_medium, 1)  # Rule 2: Medium temperature leads to Medium fan speed\n",
    "    degree_fast = min(degree_high, 1)  # Rule 3: High temperature leads to Fast fan speed\n",
    "\n",
    "    # Return degrees of membership for the output\n",
    "    return degree_slow, degree_medium_out, degree_fast"
   ]
  },
  {
   "cell_type": "markdown",
   "id": "13b4fa6c-482d-4008-b8df-0193b1f622ea",
   "metadata": {},
   "source": [
    "##### Step 4: Defuzzify the output using the Centroid method"
   ]
  },
  {
   "cell_type": "code",
   "execution_count": 5,
   "id": "5755bb3a-1b90-4638-91d6-5d5f4e6e60ca",
   "metadata": {},
   "outputs": [],
   "source": [
    "def defuzzify(degrees):\n",
    "    \"\"\"Defuzzify the output to get a crisp value.\"\"\"\n",
    "    # Define the fan speeds for the output\n",
    "    fan_speeds = np.array([0, 10, 20])  # Slow, Medium, Fast\n",
    "\n",
    "    # Calculate the weighted average using the centroid method\n",
    "    weighted_sum = np.sum(fan_speeds * np.array(degrees))\n",
    "    total_degree = np.sum(degrees)\n",
    "\n",
    "    if total_degree == 0:\n",
    "        return 0  # Avoid division by zero, return zero if no activation\n",
    "\n",
    "    crisp_output = weighted_sum / total_degree\n",
    "    return crisp_output"
   ]
  },
  {
   "cell_type": "markdown",
   "id": "ca60dec5-3a37-4f0a-a38a-0afdd9b6cd81",
   "metadata": {},
   "source": [
    "##### Step 5: Main code to input temperature and get output"
   ]
  },
  {
   "cell_type": "code",
   "execution_count": 7,
   "id": "d8afce08-8b55-4d2a-93f3-472ef099299a",
   "metadata": {},
   "outputs": [
    {
     "name": "stdout",
     "output_type": "stream",
     "text": [
      "Input temperature: 35°C\n",
      "Output fan speed (crisp value): 15.0 RPM\n"
     ]
    }
   ],
   "source": [
    "temp_input = 35  # temperature input\n",
    "\n",
    "# Infer fuzzy output based on the input temperature\n",
    "degree_slow, degree_medium_out, degree_fast = infer_fuzzy_output(temp_input)\n",
    "\n",
    "# Combine the output degrees for defuzzification\n",
    "degrees = np.array([degree_slow, degree_medium_out, degree_fast])\n",
    "\n",
    "# Calculate the crisp output fan speed\n",
    "output_fan_speed = defuzzify(degrees)\n",
    "\n",
    "# Display the results\n",
    "print(f\"Input temperature: {temp_input}°C\")\n",
    "print(f\"Output fan speed (crisp value): {output_fan_speed} RPM\")"
   ]
  }
 ],
 "metadata": {
  "kernelspec": {
   "display_name": "Python 3 (ipykernel)",
   "language": "python",
   "name": "python3"
  },
  "language_info": {
   "codemirror_mode": {
    "name": "ipython",
    "version": 3
   },
   "file_extension": ".py",
   "mimetype": "text/x-python",
   "name": "python",
   "nbconvert_exporter": "python",
   "pygments_lexer": "ipython3",
   "version": "3.13.0"
  }
 },
 "nbformat": 4,
 "nbformat_minor": 5
}
