{
 "cells": [
  {
   "cell_type": "markdown",
   "id": "43816d74",
   "metadata": {},
   "source": [
    "# KNN CLASSIFIER CODE FOR SHOPPING DATASET."
   ]
  },
  {
   "cell_type": "code",
   "execution_count": 5,
   "id": "b9fb3678",
   "metadata": {
    "scrolled": true
   },
   "outputs": [
    {
     "name": "stdout",
     "output_type": "stream",
     "text": [
      "   Administrative  Administrative_Duration  Informational  \\\n",
      "0               0                      0.0              0   \n",
      "1               0                      0.0              0   \n",
      "2               0                      0.0              0   \n",
      "3               0                      0.0              0   \n",
      "4               0                      0.0              0   \n",
      "\n",
      "   Informational_Duration  ProductRelated  ProductRelated_Duration  \\\n",
      "0                     0.0               1                 0.000000   \n",
      "1                     0.0               2                64.000000   \n",
      "2                     0.0               1                 0.000000   \n",
      "3                     0.0               2                 2.666667   \n",
      "4                     0.0              10               627.500000   \n",
      "\n",
      "   BounceRates  ExitRates  PageValues  SpecialDay Month  OperatingSystems  \\\n",
      "0         0.20       0.20         0.0         0.0   Feb                 1   \n",
      "1         0.00       0.10         0.0         0.0   Feb                 2   \n",
      "2         0.20       0.20         0.0         0.0   Feb                 4   \n",
      "3         0.05       0.14         0.0         0.0   Feb                 3   \n",
      "4         0.02       0.05         0.0         0.0   Feb                 3   \n",
      "\n",
      "   Browser  Region  TrafficType        VisitorType  Weekend  Revenue  \n",
      "0        1       1            1  Returning_Visitor    False    False  \n",
      "1        2       1            2  Returning_Visitor    False    False  \n",
      "2        1       9            3  Returning_Visitor    False    False  \n",
      "3        2       2            4  Returning_Visitor    False    False  \n",
      "4        3       1            4  Returning_Visitor     True    False  \n"
     ]
    }
   ],
   "source": [
    "import pandas as pd\n",
    "import numpy as np\n",
    "from collections import Counter\n",
    "from sklearn.model_selection import train_test_split\n",
    "import matplotlib.pyplot as plt\n",
    "import seaborn as sns\n",
    "\n",
    "\n",
    "file_path = \"D:\\\\NIT-J\\\\AI Lab\\\\Shopping 5th\\\\shopping.csv\"\n",
    "\n",
    "# CSV Reading\n",
    "df = pd.read_csv(file_path)\n",
    "\n",
    "print(df.head())\n"
   ]
  },
  {
   "cell_type": "code",
   "execution_count": 142,
   "id": "f4c93af8",
   "metadata": {
    "scrolled": true
   },
   "outputs": [],
   "source": [
    "df = df.drop(columns=['VisitorType', 'Weekend', 'Month'])\n",
    "\n",
    "'''dropping these columns becuase they contains categorical values which can not be \n",
    "processed by knn because it calculates distances'''"
   ]
  },
  {
   "cell_type": "code",
   "execution_count": 131,
   "id": "6cc66b66",
   "metadata": {},
   "outputs": [],
   "source": [
    "df['Revenue'] = df['Revenue'].astype(int)\n",
    "\n",
    "# Can proceed with the bool also but Changing it to int for furthur convenience"
   ]
  },
  {
   "cell_type": "code",
   "execution_count": 132,
   "id": "4d9ff83e",
   "metadata": {},
   "outputs": [],
   "source": [
    "X = df.drop(columns=['Revenue'])  \n",
    "y = df['Revenue']\n",
    "\n",
    "# Splitting the data into training and test sets (80-20 split)\n",
    "X_train, X_test, y_train, y_test = train_test_split(X, y, test_size=0.2, random_state=42)"
   ]
  },
  {
   "cell_type": "code",
   "execution_count": 145,
   "id": "92c9f00e",
   "metadata": {},
   "outputs": [],
   "source": [
    "class KNNClassifier:\n",
    "    def __init__(self, k=3):\n",
    "        self.k = k\n",
    "    \n",
    "    def fit(self, X_train, y_train):\n",
    "        self.X_train = np.array(X_train)\n",
    "        self.y_train = np.array(y_train)\n",
    "    \n",
    "    def euclidean_distance(self, x1, x2):\n",
    "        return np.sqrt(np.sum((x1 - x2) ** 2))\n",
    "    \n",
    "    def predict(self, X_test):\n",
    "        predictions = [self._predict(x) for x in np.array(X_test)[:900]]\n",
    "        return np.array(predictions)\n",
    "    \n",
    "    def _predict(self, x):\n",
    "        # Compute distances between x and all examples in the training set\n",
    "        distances = [self.euclidean_distance(x, x_train) for x_train in self.X_train]\n",
    "        \n",
    "        # Get the k-nearest samples, labels\n",
    "        k_indices = np.argsort(distances)[:self.k]\n",
    "        k_nearest_labels = [self.y_train[i] for i in k_indices]\n",
    "        \n",
    "        # Majority\n",
    "        most_common = Counter(k_nearest_labels).most_common(1)\n",
    "        return most_common[0][0]\n",
    "\n"
   ]
  },
  {
   "cell_type": "code",
   "execution_count": 146,
   "id": "fc7f1e1e",
   "metadata": {},
   "outputs": [],
   "source": [
    "# Initialize the KNN model with k=5\n",
    "knn = KNNClassifier(k=5)\n",
    "knn.fit(X_train, y_train)\n",
    "\n",
    "# Predicting on the test set\n",
    "y_pred = knn.predict(X_test)\n"
   ]
  },
  {
   "cell_type": "code",
   "execution_count": 149,
   "id": "ebfb5f98",
   "metadata": {},
   "outputs": [
    {
     "data": {
      "image/png": "[encoded data removed]",
      "text/plain": [
       "<Figure size 600x400 with 2 Axes>"
      ]
     },
     "metadata": {},
     "output_type": "display_data"
    },
    {
     "name": "stdout",
     "output_type": "stream",
     "text": [
      "Confusion Matrix:\n",
      "[[ 36 118]\n",
      " [ 26 720]]\n",
      "\n",
      "The value of accuracy is 0.84 \n",
      "The value of Recall is 0.23376623376623376\n",
      "The value of Precision is 0.5806451612903226\n"
     ]
    }
   ],
   "source": [
    "# Evaluating the performance by calculating the confusion matrix\n",
    "def confusion_matrix(y_true, y_pred):\n",
    "    TP = np.sum((y_true == 1) & (y_pred == 1))\n",
    "    TN = np.sum((y_true == 0) & (y_pred == 0))\n",
    "    FP = np.sum((y_true == 0) & (y_pred == 1))\n",
    "    FN = np.sum((y_true == 1) & (y_pred == 0))\n",
    "    \n",
    "    return np.array([[TP, FN],\n",
    "                     [FP, TN]]),TP, TN, FP, FN\n",
    "\n",
    "def performance_measures(TP,TN,FP,FN):\n",
    "    \n",
    "    accuracy= (TP+TN)/(TP+TN+FN+FP)\n",
    "    \n",
    "    recall= (TP)/(TP+FN)\n",
    "    \n",
    "    Precision=(TP/(TP+FP))\n",
    "    \n",
    "    print(f\"The value of accuracy is {accuracy} \\nThe value of Recall is {recall}\\nThe value of Precision is {Precision}\")\n",
    "    \n",
    "cm,TP, TN, FP, FN = confusion_matrix(y_test[:900], y_pred)\n",
    "\n",
    "\n",
    "# Visualizing the confusion matrix\n",
    "plt.figure(figsize=(6,4))\n",
    "sns.heatmap(cm, annot=True, fmt='d', cmap='Blues', xticklabels=['Predicted 1', 'Predicted 0'], yticklabels=['Actual 1', 'Actual 0'])\n",
    "plt.ylabel('Actual')\n",
    "plt.xlabel('Predicted')\n",
    "plt.title('Confusion Matrix')\n",
    "plt.show()\n",
    "\n",
    "# Print confusion matrix values\n",
    "print(f\"Confusion Matrix:\\n{cm}\")\n",
    "print()\n",
    "performance_measures(TP,TN,FP,FN)"
   ]
  }
 ],
 "metadata": {
  "kernelspec": {
   "display_name": "Python 3 (ipykernel)",
   "language": "python",
   "name": "python3"
  },
  "language_info": {
   "codemirror_mode": {
    "name": "ipython",
    "version": 3
   },
   "file_extension": ".py",
   "mimetype": "text/x-python",
   "name": "python",
   "nbconvert_exporter": "python",
   "pygments_lexer": "ipython3",
   "version": "3.12.7"
  }
 },
 "nbformat": 4,
 "nbformat_minor": 5
}
