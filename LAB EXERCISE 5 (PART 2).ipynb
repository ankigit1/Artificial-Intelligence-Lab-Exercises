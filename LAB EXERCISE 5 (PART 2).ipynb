{
 "cells": [
  {
   "cell_type": "markdown",
   "id": "e54b655e-b05b-44fb-a0ce-db9a74b9ddb8",
   "metadata": {},
   "source": [
    "# DECISION TREE CLASSIFIER CODE FOR SHOPPING DATASET."
   ]
  },
  {
   "cell_type": "code",
   "execution_count": 31,
   "id": "daa5a68b-5eea-4c85-a46a-b2f170cae23f",
   "metadata": {},
   "outputs": [],
   "source": [
    "import numpy as np\n",
    "import pandas as pd\n",
    "from sklearn.model_selection import train_test_split\n",
    "from sklearn.metrics import confusion_matrix, accuracy_score, precision_score, recall_score, f1_score\n",
    "import matplotlib.pyplot as plt\n",
    "import seaborn as sns\n",
    "from sklearn.tree import DecisionTreeClassifier, plot_tree\n",
    "# Load and prepare the dataset\n",
    "file_path = \"D:\\\\NIT-J\\\\AI Lab\\\\Shopping 5th\\\\shopping.csv\"\n",
    "df = pd.read_csv(file_path)"
   ]
  },
  {
   "cell_type": "code",
   "execution_count": 33,
   "id": "73ff8173-717b-44e4-8409-295b012579d6",
   "metadata": {},
   "outputs": [],
   "source": [
    "# Convert categorical variables to numeric\n",
    "df['Month'] = df['Month'].astype('category').cat.codes\n",
    "df['VisitorType'] = df['VisitorType'].astype('category').cat.codes\n",
    "df['Weekend'] = df['Weekend'].astype(int)\n",
    "df['Revenue'] = df['Revenue'].astype(int)\n",
    "\n",
    "# Define features (X) and target (y)\n",
    "X = df.drop('Revenue', axis=1).values\n",
    "y = df['Revenue'].values\n",
    "\n",
    "# Train-test split function\n",
    "def train_test_split(X, y, test_size=0.2):\n",
    "    indices = np.arange(X.shape[0])\n",
    "    np.random.shuffle(indices)\n",
    "    split = int(X.shape[0] * (1 - test_size))\n",
    "    return X[indices[:split]], X[indices[split:]], y[indices[:split]], y[indices[split:]]\n",
    "\n",
    "X_train, X_test, y_train, y_test = train_test_split(X, y, test_size=0.2)\n",
    "\n",
    "# Define the Gini Impurity function\n",
    "def gini_impurity(y):\n",
    "    classes, counts = np.unique(y, return_counts=True)\n",
    "    impurity = 1 - sum((count / len(y)) ** 2 for count in counts)\n",
    "    return impurity\n",
    "\n",
    "# Calculate weighted Gini Impurity for a split\n",
    "def weighted_gini(left_y, right_y):\n",
    "    left_weight = len(left_y) / (len(left_y) + len(right_y))\n",
    "    right_weight = len(right_y) / (len(left_y) + len(right_y))\n",
    "    return left_weight * gini_impurity(left_y) + right_weight * gini_impurity(right_y)\n",
    "\n",
    "# Find the best split for a node\n",
    "def best_split(X, y):\n",
    "    best_gini = float(\"inf\")\n",
    "    best_feature, best_threshold = None, None\n",
    "    for feature in range(X.shape[1]):\n",
    "        thresholds = np.unique(X[:, feature])\n",
    "        for threshold in thresholds:\n",
    "            left_mask = X[:, feature] <= threshold\n",
    "            right_mask = X[:, feature] > threshold\n",
    "            left_y, right_y = y[left_mask], y[right_mask]\n",
    "            gini = weighted_gini(left_y, right_y)\n",
    "            if gini < best_gini:\n",
    "                best_gini = gini\n",
    "                best_feature = feature\n",
    "                best_threshold = threshold\n",
    "    return best_feature, best_threshold"
   ]
  },
  {
   "cell_type": "code",
   "execution_count": 35,
   "id": "8b56563a-39b9-4bb8-8c77-9f7ffc25a9db",
   "metadata": {},
   "outputs": [
    {
     "name": "stdout",
     "output_type": "stream",
     "text": [
      "Accuracy: 0.9014598540145985\n"
     ]
    }
   ],
   "source": [
    "# Define a Node in the tree\n",
    "class Node:\n",
    "    def __init__(self, gini, num_samples, predicted_class):\n",
    "        self.gini = gini\n",
    "        self.num_samples = num_samples\n",
    "        self.predicted_class = predicted_class\n",
    "        self.feature_index = None\n",
    "        self.threshold = None\n",
    "        self.left = None\n",
    "        self.right = None\n",
    "\n",
    "# Recursive function to grow the tree\n",
    "def grow_tree(X, y, depth=0, max_depth=5):\n",
    "    num_samples_per_class = [np.sum(y == c) for c in np.unique(y)]\n",
    "    predicted_class = np.argmax(num_samples_per_class)\n",
    "    node = Node(\n",
    "        gini=gini_impurity(y),\n",
    "        num_samples=len(y),\n",
    "        predicted_class=predicted_class,\n",
    "    )\n",
    "    if depth < max_depth and gini_impurity(y) > 0:\n",
    "        feature, threshold = best_split(X, y)\n",
    "        if feature is not None:\n",
    "            node.feature_index = feature\n",
    "            node.threshold = threshold\n",
    "            left_mask = X[:, feature] <= threshold\n",
    "            right_mask = X[:, feature] > threshold\n",
    "            node.left = grow_tree(X[left_mask], y[left_mask], depth + 1, max_depth)\n",
    "            node.right = grow_tree(X[right_mask], y[right_mask], depth + 1, max_depth)\n",
    "    return node\n",
    "\n",
    "# Prediction function for a single instance\n",
    "def predict_single(node, x):\n",
    "    while node.left and node.right:\n",
    "        if x[node.feature_index] <= node.threshold:\n",
    "            node = node.left\n",
    "        else:\n",
    "            node = node.right\n",
    "    return node.predicted_class\n",
    "\n",
    "# Prediction function for a batch of instances\n",
    "def predict(tree, X):\n",
    "    return np.array([predict_single(tree, x) for x in X])\n",
    "\n",
    "# Train the decision tree\n",
    "tree = grow_tree(X_train, y_train, max_depth=5)\n",
    "\n",
    "# Make predictions on test data\n",
    "y_pred = predict(tree, X_test)\n",
    "\n",
    "# Evaluate accuracy\n",
    "accuracy = np.mean(y_pred == y_test)\n",
    "print(\"Accuracy:\", accuracy)"
   ]
  },
  {
   "cell_type": "code",
   "execution_count": 37,
   "id": "a36ef03c-a0ac-4db6-b6e0-238ca9a90688",
   "metadata": {},
   "outputs": [],
   "source": [
    "\n",
    "# Assuming you have the confusion matrix components\n",
    "TP = np.sum((y_test == 1) & (y_pred == 1))  # True Positives\n",
    "FP = np.sum((y_test == 0) & (y_pred == 1))  # False Positives\n",
    "TN = np.sum((y_test == 0) & (y_pred == 0))  # True Negatives\n",
    "FN = np.sum((y_test == 1) & (y_pred == 0))  # False Negatives\n",
    "\n",
    "# Calculate metrics\n",
    "accuracy = (TP + TN) / (TP + FP + TN + FN)\n",
    "precision = TP / (TP + FP) if (TP + FP) > 0 else 0\n",
    "recall = TP / (TP + FN) if (TP + FN) > 0 else 0\n",
    "f1_score = 2 * (precision * recall) / (precision + recall) if (precision + recall) > 0 else 0\n",
    "conf_matrix = confusion_matrix(y_test, y_pred)\n"
   ]
  },
  {
   "cell_type": "code",
   "execution_count": 39,
   "id": "6d2d99ce-66a5-427d-930f-06f0719c94df",
   "metadata": {},
   "outputs": [
    {
     "data": {
      "image/png": "[encoded data removed]",
      "text/plain": [
       "<Figure size 600x400 with 2 Axes>"
      ]
     },
     "metadata": {},
     "output_type": "display_data"
    },
    {
     "name": "stdout",
     "output_type": "stream",
     "text": [
      "Accuracy: 0.9014598540145985\n",
      "\n",
      "Precision: 0.7240143369175627\n",
      "\n",
      "Recall: 0.5489130434782609\n",
      "\n",
      "F1 Score: 0.624420401854714\n"
     ]
    }
   ],
   "source": [
    "# Plot the confusion matrix\n",
    "plt.figure(figsize=(6, 4))\n",
    "sns.heatmap(conf_matrix, annot=True, fmt=\"d\", cmap=\"Blues\", xticklabels=['No Revenue', 'Revenue'], yticklabels=['No Revenue', 'Revenue'])\n",
    "plt.xlabel(\"Predicted Labels\")\n",
    "plt.ylabel(\"Actual Labels\")\n",
    "plt.title(\"Confusion Matrix\")\n",
    "plt.show()\n",
    "\n",
    "print(\"Accuracy:\", accuracy)\n",
    "print()\n",
    "print(\"Precision:\", precision)\n",
    "print()\n",
    "print(\"Recall:\", recall)\n",
    "print()\n",
    "print(\"F1 Score:\", f1_score)\n"
   ]
  }
 ],
 "metadata": {
  "kernelspec": {
   "display_name": "Python 3 (ipykernel)",
   "language": "python",
   "name": "python3"
  },
  "language_info": {
   "codemirror_mode": {
    "name": "ipython",
    "version": 3
   },
   "file_extension": ".py",
   "mimetype": "text/x-python",
   "name": "python",
   "nbconvert_exporter": "python",
   "pygments_lexer": "ipython3",
   "version": "3.12.7"
  }
 },
 "nbformat": 4,
 "nbformat_minor": 5
}
