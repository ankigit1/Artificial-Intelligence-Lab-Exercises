{
 "cells": [
  {
   "cell_type": "markdown",
   "id": "2ab91189",
   "metadata": {},
   "source": [
    "# LAB Assignment 1"
   ]
  },
  {
   "cell_type": "markdown",
   "id": "0f87b4c3",
   "metadata": {},
   "source": [
    "Python Data Structure"
   ]
  },
  {
   "cell_type": "markdown",
   "id": "f4b1aae3",
   "metadata": {},
   "source": [
    "Exercise 1: Create a list by picking an odd-index items from the first list and even\n",
    "index items from the second"
   ]
  },
  {
   "cell_type": "code",
   "execution_count": 1,
   "id": "35894d0f",
   "metadata": {},
   "outputs": [
    {
     "name": "stdout",
     "output_type": "stream",
     "text": [
      "[2, 4, 6, 10, 30, 50]\n"
     ]
    }
   ],
   "source": [
    "def merge_lists(list1, list2):\n",
    "    new_list = []\n",
    "    for i in range(len(list1)):\n",
    "        if i % 2 == 1:  \n",
    "            new_list.append(list1[i])\n",
    "    for i in range(len(list2)):\n",
    "        if i % 2 == 0:  \n",
    "            new_list.append(list2[i])\n",
    "    return new_list\n",
    "\n",
    "list1 = [1, 2, 3, 4, 5, 6]\n",
    "list2 = [10, 20, 30, 40, 50, 60]\n",
    "result = merge_lists(list1, list2)\n",
    "print(result)\n"
   ]
  },
  {
   "cell_type": "markdown",
   "id": "8329ce89",
   "metadata": {},
   "source": [
    "Exercise 2: Remove and add item in a list"
   ]
  },
  {
   "cell_type": "code",
   "execution_count": 2,
   "id": "587e5b3a",
   "metadata": {},
   "outputs": [
    {
     "name": "stdout",
     "output_type": "stream",
     "text": [
      "[1, 2, 4, 5, 6]\n"
     ]
    }
   ],
   "source": [
    "def modify_list(lst, remove_item, add_item):\n",
    "    lst.remove(remove_item)\n",
    "    lst.append(add_item)\n",
    "    return lst\n",
    "\n",
    "lst = [1, 2, 3, 4, 5]\n",
    "result = modify_list(lst, 3, 6)\n",
    "print(result)\n"
   ]
  },
  {
   "cell_type": "markdown",
   "id": "c2f070e2",
   "metadata": {},
   "source": [
    "Exercise 3: Slice list into 3 equal chunks and reverse each chunk"
   ]
  },
  {
   "cell_type": "code",
   "execution_count": 3,
   "id": "57342caa",
   "metadata": {},
   "outputs": [
    {
     "name": "stdout",
     "output_type": "stream",
     "text": [
      "[[3, 2, 1], [6, 5, 4], [9, 8, 7]]\n"
     ]
    }
   ],
   "source": [
    "def slice_and_reverse(lst):\n",
    "    chunk_size = len(lst) // 3\n",
    "    chunks = []\n",
    "    for i in range(0, len(lst), chunk_size):\n",
    "        chunk = lst[i:i+chunk_size]\n",
    "        chunks.append(chunk[::-1])\n",
    "    return chunks\n",
    "\n",
    "lst = [1, 2, 3, 4, 5, 6, 7, 8, 9]\n",
    "result = slice_and_reverse(lst)\n",
    "print(result)\n"
   ]
  },
  {
   "cell_type": "markdown",
   "id": "8da8b2eb",
   "metadata": {},
   "source": [
    "Exercise 4: Count the occurrence of each element from a list"
   ]
  },
  {
   "cell_type": "code",
   "execution_count": 4,
   "id": "cd7d2ff8",
   "metadata": {},
   "outputs": [
    {
     "name": "stdout",
     "output_type": "stream",
     "text": [
      "{1: 1, 2: 2, 3: 3, 4: 1}\n"
     ]
    }
   ],
   "source": [
    "def count_occurrences(lst):\n",
    "    counts = {}\n",
    "    for item in lst:\n",
    "        if item in counts:\n",
    "            counts[item] += 1\n",
    "        else:\n",
    "            counts[item] = 1\n",
    "    return counts\n",
    "\n",
    "lst = [1, 2, 2, 3, 3, 3, 4]\n",
    "result = count_occurrences(lst)\n",
    "print(result)\n"
   ]
  },
  {
   "cell_type": "markdown",
   "id": "0d2267a3",
   "metadata": {},
   "source": [
    "Exercise 5: Find the intersection (common) of two sets and remove those elements\n",
    "from the first set"
   ]
  },
  {
   "cell_type": "code",
   "execution_count": 5,
   "id": "696033bf",
   "metadata": {},
   "outputs": [
    {
     "name": "stdout",
     "output_type": "stream",
     "text": [
      "{1, 2, 5}\n"
     ]
    }
   ],
   "source": [
    "def intersect_and_remove(set1, set2):\n",
    "    common = set1.intersection(set2)\n",
    "    for item in common:\n",
    "        set1.remove(item)\n",
    "    return set1\n",
    "\n",
    "set1 = {1, 2, 3, 4, 5}\n",
    "set2 = {3, 4, 6}\n",
    "result = intersect_and_remove(set1, set2)\n",
    "print(result)\n"
   ]
  },
  {
   "cell_type": "markdown",
   "id": "533bcd79",
   "metadata": {},
   "source": [
    "Exercises On Loop"
   ]
  },
  {
   "cell_type": "markdown",
   "id": "6e676094",
   "metadata": {},
   "source": [
    "Exercise 1: Print First 10 natural numbers using while loop"
   ]
  },
  {
   "cell_type": "code",
   "execution_count": 6,
   "id": "6343a7bf",
   "metadata": {},
   "outputs": [
    {
     "name": "stdout",
     "output_type": "stream",
     "text": [
      "1\n",
      "2\n",
      "3\n",
      "4\n",
      "5\n",
      "6\n",
      "7\n",
      "8\n",
      "9\n",
      "10\n"
     ]
    }
   ],
   "source": [
    "def print_natural_numbers():\n",
    "    i = 1\n",
    "    while i <= 10:\n",
    "        print(i)\n",
    "        i += 1\n",
    "\n",
    "print_natural_numbers()\n"
   ]
  },
  {
   "cell_type": "markdown",
   "id": "097ebb82",
   "metadata": {},
   "source": [
    "Exercise 2: Find the sum of the series upto n terms"
   ]
  },
  {
   "cell_type": "code",
   "execution_count": 7,
   "id": "7109abde",
   "metadata": {},
   "outputs": [
    {
     "name": "stdout",
     "output_type": "stream",
     "text": [
      "15\n"
     ]
    }
   ],
   "source": [
    "def sum_of_series(n):\n",
    "    sum = 0\n",
    "    i = 1\n",
    "    while i <= n:\n",
    "        sum += i\n",
    "        i += 1\n",
    "    return sum\n",
    "\n",
    "n = 5  \n",
    "result = sum_of_series(n)\n",
    "print(result)\n"
   ]
  },
  {
   "cell_type": "markdown",
   "id": "f4bcf55e",
   "metadata": {},
   "source": [
    "Exercise 3: Calculate the sum of all numbers from 1 to a given number"
   ]
  },
  {
   "cell_type": "code",
   "execution_count": 8,
   "id": "ae72e419",
   "metadata": {},
   "outputs": [
    {
     "name": "stdout",
     "output_type": "stream",
     "text": [
      "55\n"
     ]
    }
   ],
   "source": [
    "def sum_to_n(number):\n",
    "    total = 0\n",
    "    i = 1\n",
    "    while i <= number:\n",
    "        total += i\n",
    "        i += 1\n",
    "    return total\n",
    "\n",
    "number = 10  \n",
    "result = sum_to_n(number)\n",
    "print(result)\n"
   ]
  },
  {
   "cell_type": "markdown",
   "id": "4dba4f5c",
   "metadata": {},
   "source": [
    "Exercise 4: Write a program to print multiplication table of a given number"
   ]
  },
  {
   "cell_type": "code",
   "execution_count": 9,
   "id": "a52e3218",
   "metadata": {},
   "outputs": [
    {
     "name": "stdout",
     "output_type": "stream",
     "text": [
      "5 x 1 = 5\n",
      "5 x 2 = 10\n",
      "5 x 3 = 15\n",
      "5 x 4 = 20\n",
      "5 x 5 = 25\n",
      "5 x 6 = 30\n",
      "5 x 7 = 35\n",
      "5 x 8 = 40\n",
      "5 x 9 = 45\n",
      "5 x 10 = 50\n"
     ]
    }
   ],
   "source": [
    "def multiplication_table(number):\n",
    "    i = 1\n",
    "    while i <= 10:\n",
    "        print(number, \"x\", i, \"=\", number * i)\n",
    "        i += 1\n",
    "\n",
    "number = 5  \n",
    "multiplication_table(number)\n"
   ]
  },
  {
   "cell_type": "markdown",
   "id": "2aaca9b6",
   "metadata": {},
   "source": [
    "Exercise 5: Display numbers from a list using loop"
   ]
  },
  {
   "cell_type": "code",
   "execution_count": 10,
   "id": "2a778135",
   "metadata": {},
   "outputs": [
    {
     "name": "stdout",
     "output_type": "stream",
     "text": [
      "1\n",
      "2\n",
      "3\n",
      "4\n",
      "5\n"
     ]
    }
   ],
   "source": [
    "def display_numbers_from_list(lst):\n",
    "    for number in lst:\n",
    "        print(number)\n",
    "\n",
    "lst = [1, 2, 3, 4, 5]  \n",
    "display_numbers_from_list(lst)\n"
   ]
  },
  {
   "cell_type": "markdown",
   "id": "e376e4ce",
   "metadata": {},
   "source": [
    "Excercise on function"
   ]
  },
  {
   "cell_type": "markdown",
   "id": "15087d33",
   "metadata": {},
   "source": [
    "Exercise 1: Create a function in Python"
   ]
  },
  {
   "cell_type": "code",
   "execution_count": 16,
   "id": "7ec873a3",
   "metadata": {},
   "outputs": [
    {
     "name": "stdout",
     "output_type": "stream",
     "text": [
      "Hello World!\n"
     ]
    }
   ],
   "source": [
    "def greet():\n",
    "    print(\"Hello World!\")\n",
    "\n",
    "greet()\n"
   ]
  },
  {
   "cell_type": "markdown",
   "id": "713335d2",
   "metadata": {},
   "source": [
    "Exercise 2: Create a function with variable length of arguments"
   ]
  },
  {
   "cell_type": "code",
   "execution_count": 12,
   "id": "c87be38a",
   "metadata": {},
   "outputs": [
    {
     "name": "stdout",
     "output_type": "stream",
     "text": [
      "1\n",
      "2\n",
      "3\n",
      "4\n",
      "5\n"
     ]
    }
   ],
   "source": [
    "def variable_length_args(*args):\n",
    "    for arg in args:\n",
    "        print(arg)\n",
    "\n",
    "variable_length_args(1, 2, 3, 4, 5)\n"
   ]
  },
  {
   "cell_type": "markdown",
   "id": "41e3c199",
   "metadata": {},
   "source": [
    "Exercise 3: Return multiple values from a function"
   ]
  },
  {
   "cell_type": "code",
   "execution_count": 13,
   "id": "c60d4818",
   "metadata": {},
   "outputs": [
    {
     "name": "stdout",
     "output_type": "stream",
     "text": [
      "1 2 3\n"
     ]
    }
   ],
   "source": [
    "def return_multiple_values():\n",
    "    return 1, 2, 3\n",
    "\n",
    "a, b, c = return_multiple_values()\n",
    "print(a, b, c)\n"
   ]
  },
  {
   "cell_type": "markdown",
   "id": "bd2d3dc0",
   "metadata": {},
   "source": [
    "Exercise 4: Create a function with a default argument"
   ]
  },
  {
   "cell_type": "code",
   "execution_count": 14,
   "id": "3414aa92",
   "metadata": {},
   "outputs": [
    {
     "name": "stdout",
     "output_type": "stream",
     "text": [
      "Hello, User\n",
      "Hello, Alice\n"
     ]
    }
   ],
   "source": [
    "def greet(name=\"User\"):\n",
    "    print(\"Hello,\", name)\n",
    "\n",
    "greet()        \n",
    "greet(\"Alice\") \n"
   ]
  },
  {
   "cell_type": "markdown",
   "id": "391df27f",
   "metadata": {},
   "source": [
    "Exercise 5: Create an inner function to calculate the addition in the following way"
   ]
  },
  {
   "cell_type": "code",
   "execution_count": 15,
   "id": "abde24a4",
   "metadata": {},
   "outputs": [
    {
     "name": "stdout",
     "output_type": "stream",
     "text": [
      "8\n"
     ]
    }
   ],
   "source": [
    "def outer_function(x):\n",
    "    def inner_function(y):\n",
    "        return x + y\n",
    "    return inner_function\n",
    "\n",
    "add_five = outer_function(5)\n",
    "result = add_five(3)\n",
    "print(result)\n"
   ]
  }
 ],
 "metadata": {
  "kernelspec": {
   "display_name": "Python 3 (ipykernel)",
   "language": "python",
   "name": "python3"
  },
  "language_info": {
   "codemirror_mode": {
    "name": "ipython",
    "version": 3
   },
   "file_extension": ".py",
   "mimetype": "text/x-python",
   "name": "python",
   "nbconvert_exporter": "python",
   "pygments_lexer": "ipython3",
   "version": "3.10.5"
  }
 },
 "nbformat": 4,
 "nbformat_minor": 5
}
